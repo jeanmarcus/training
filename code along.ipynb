{
 "cells": [
  {
   "cell_type": "markdown",
   "metadata": {},
   "source": [
    "# Manually setting up a RNN"
   ]
  },
  {
   "cell_type": "code",
   "execution_count": 2,
   "metadata": {},
   "outputs": [],
   "source": [
    "import numpy as np\n",
    "import tensorflow as tf\n",
    "import matplotlib.pyplot as plt\n",
    "%matplotlib inline"
   ]
  },
  {
   "cell_type": "code",
   "execution_count": 13,
   "metadata": {},
   "outputs": [],
   "source": [
    "#Constants\n",
    "num_inputs = 2\n",
    "num_neurons = 3\n",
    "\n",
    "#placeholders for the timestamps (it would be ridiculous to do it in a regular RNN)\n",
    "x0 = tf.placeholder(tf.float32,(None,num_inputs))\n",
    "x1 = tf.placeholder(tf.float32,(None,num_inputs))\n",
    "\n",
    "#variables\n",
    "Wx = tf.Variable(tf.random_normal(shape = (num_inputs,num_neurons)))\n",
    "Wy = tf.Variable(tf.random_normal(shape = (num_neurons,num_neurons)))\n",
    "b = tf.Variable(tf.zeros(shape = (1,num_neurons)))\n",
    "\n",
    "#Graph\n",
    "y0 = tf.tanh(tf.matmul(x0,Wx)+b)\n",
    "y1 = tf.tanh(tf.matmul(y0,Wy) + tf.matmul(x1,Wx) + b)\n",
    "init = tf.global_variables_initializer()"
   ]
  },
  {
   "cell_type": "code",
   "execution_count": 14,
   "metadata": {},
   "outputs": [],
   "source": [
    "#Creating DATA\n",
    "#Time Stamp 0\n",
    "x0_batch = np.array([[0,1],[2,3],[4,5]])\n",
    "#timestamp 1\n",
    "x1_batch = np.array([[100,101],[102,103],[104,105]])"
   ]
  },
  {
   "cell_type": "code",
   "execution_count": 15,
   "metadata": {},
   "outputs": [],
   "source": [
    "with tf.Session() as sess:\n",
    "    sess.run(init)\n",
    "    y0_output_vals, y1_output_vals = sess.run([y0,y1],feed_dict={x0:x0_batch,x1:x1_batch})"
   ]
  },
  {
   "cell_type": "code",
   "execution_count": 17,
   "metadata": {},
   "outputs": [
    {
     "data": {
      "text/plain": [
       "array([[ 0.14385472, -0.7283546 , -0.79494447],\n",
       "       [-0.907924  , -0.99979883, -0.9985661 ],\n",
       "       [-0.99651957, -0.99999976, -0.99999106]], dtype=float32)"
      ]
     },
     "execution_count": 17,
     "metadata": {},
     "output_type": "execute_result"
    }
   ],
   "source": [
    "y0_output_vals"
   ]
  },
  {
   "cell_type": "code",
   "execution_count": 1,
   "metadata": {},
   "outputs": [
    {
     "ename": "NameError",
     "evalue": "name 'y1_output_vals' is not defined",
     "output_type": "error",
     "traceback": [
      "\u001b[0;31m---------------------------------------------------------------------------\u001b[0m",
      "\u001b[0;31mNameError\u001b[0m                                 Traceback (most recent call last)",
      "\u001b[0;32m<ipython-input-1-8f2549f08f54>\u001b[0m in \u001b[0;36m<module>\u001b[0;34m\u001b[0m\n\u001b[0;32m----> 1\u001b[0;31m \u001b[0my1_output_vals\u001b[0m\u001b[0;34m\u001b[0m\u001b[0;34m\u001b[0m\u001b[0m\n\u001b[0m",
      "\u001b[0;31mNameError\u001b[0m: name 'y1_output_vals' is not defined"
     ]
    }
   ],
   "source": [
    "y1_output_vals"
   ]
  },
  {
   "cell_type": "markdown",
   "metadata": {},
   "source": [
    "# RNN with Tensorflow"
   ]
  },
  {
   "cell_type": "code",
   "execution_count": 3,
   "metadata": {},
   "outputs": [],
   "source": [
    "class TimeSeriesData():\n",
    "    \n",
    "    def __init__(self,num_points,xmin,xmax):\n",
    "        self.xmin = xmin\n",
    "        self.xmax = xmax\n",
    "        self.num_points = num_points\n",
    "        self.resolution = (xmax-xmin)/num_points\n",
    "        self.x_data = np.linspace(xmin,xmax,num_points)\n",
    "        self.ytrue = np.sin(self.x_data)\n",
    "        \n",
    "    def ret_true(self,x_series):\n",
    "        return np.sin(x_series)\n",
    "    \n",
    "    def next_batch(self,batch_size,steps,return_batch_ts=False):\n",
    "        #Grab a random starting point for the batch\n",
    "        rand_start = np.random.rand(batch_size,1)\n",
    "        \n",
    "        #Convert to be on a time series\n",
    "        ts_start = rand_start * (self.xmax - self.xmin - (steps*self.resolution))\n",
    "        \n",
    "        #create a batch time series on the x axis\n",
    "        batch_ts = ts_start+np.arange(0.0,steps+1)*self.resolution\n",
    "        \n",
    "        #create the y data for the time series x axis from the previous data\n",
    "        y_batch = np.sin(batch_ts)\n",
    "        \n",
    "        #FORMATTING for the RNN\n",
    "        if return_batch_ts:\n",
    "            return y_batch[:,:-1].reshape(-1,steps,1), y_batch[:,1:].reshape(-1,steps,1), batch_ts\n",
    "        else:\n",
    "            return y_batch[:,:-1].reshape(-1,steps,1), y_batch[:,1:].reshape(-1,steps,1)"
   ]
  },
  {
   "cell_type": "code",
   "execution_count": 4,
   "metadata": {},
   "outputs": [],
   "source": [
    "ts_data = TimeSeriesData(250,0,10)"
   ]
  },
  {
   "cell_type": "code",
   "execution_count": 7,
   "metadata": {},
   "outputs": [
    {
     "data": {
      "text/plain": [
       "[<matplotlib.lines.Line2D at 0x7f4e58269290>]"
      ]
     },
     "execution_count": 7,
     "metadata": {},
     "output_type": "execute_result"
    },
    {
     "data": {
      "image/png": "[encoded data removed]",
      "text/plain": [
       "<Figure size 432x288 with 1 Axes>"
      ]
     },
     "metadata": {
      "needs_background": "light"
     },
     "output_type": "display_data"
    }
   ],
   "source": [
    "plt.plot(ts_data.x_data,ts_data.ytrue)"
   ]
  },
  {
   "cell_type": "code",
   "execution_count": 8,
   "metadata": {},
   "outputs": [],
   "source": [
    "num_time_steps = 30"
   ]
  },
  {
   "cell_type": "code",
   "execution_count": 9,
   "metadata": {},
   "outputs": [],
   "source": [
    "y1,y2,ts = ts_data.next_batch(1,num_time_steps,True)"
   ]
  },
  {
   "cell_type": "code",
   "execution_count": 10,
   "metadata": {},
   "outputs": [
    {
     "data": {
      "text/plain": [
       "[<matplotlib.lines.Line2D at 0x7f4e58103490>]"
      ]
     },
     "execution_count": 10,
     "metadata": {},
     "output_type": "execute_result"
    },
    {
     "data": {
      "image/png": "[encoded data removed]",
      "text/plain": [
       "<Figure size 432x288 with 1 Axes>"
      ]
     },
     "metadata": {
      "needs_background": "light"
     },
     "output_type": "display_data"
    }
   ],
   "source": [
    "plt.plot(ts.flatten()[1:],y2.flatten(),'*')"
   ]
  },
  {
   "cell_type": "code",
   "execution_count": 12,
   "metadata": {},
   "outputs": [
    {
     "data": {
      "text/plain": [
       "[<matplotlib.lines.Line2D at 0x7f4e580c3890>]"
      ]
     },
     "execution_count": 12,
     "metadata": {},
     "output_type": "execute_result"
    },
    {
     "data": {
      "image/png": "[encoded data removed]",
      "text/plain": [
       "<Figure size 432x288 with 1 Axes>"
      ]
     },
     "metadata": {
      "needs_background": "light"
     },
     "output_type": "display_data"
    }
   ],
   "source": [
    "plt.plot(ts_data.x_data,ts_data.ytrue)\n",
    "plt.plot(ts.flatten()[1:],y2.flatten(),'*')"
   ]
  },
  {
   "cell_type": "code",
   "execution_count": 13,
   "metadata": {},
   "outputs": [],
   "source": [
    "train_inst = np.linspace(5,5 + ts_data.resolution * (num_time_steps + 1), num_time_steps+1)"
   ]
  },
  {
   "cell_type": "code",
   "execution_count": 14,
   "metadata": {},
   "outputs": [
    {
     "data": {
      "text/plain": [
       "[<matplotlib.lines.Line2D at 0x7f4e5801f5d0>]"
      ]
     },
     "execution_count": 14,
     "metadata": {},
     "output_type": "execute_result"
    },
    {
     "data": {
      "image/png": "[encoded data removed]",
      "text/plain": [
       "<Figure size 432x288 with 1 Axes>"
      ]
     },
     "metadata": {
      "needs_background": "light"
     },
     "output_type": "display_data"
    }
   ],
   "source": [
    "plt.title(\"A training instance\", fontsize=14)\n",
    "plt.plot(train_inst[:-1], ts_data.ret_true(train_inst[:-1]), \"bo\", markersize=15,alpha=0.5 ,label=\"instance\")\n",
    "plt.plot(train_inst[1:], ts_data.ret_true(train_inst[1:]), \"ko\", markersize=7, label=\"target\")"
   ]
  },
  {
   "cell_type": "markdown",
   "metadata": {},
   "source": [
    "# Create Model"
   ]
  },
  {
   "cell_type": "code",
   "execution_count": 15,
   "metadata": {},
   "outputs": [],
   "source": [
    "tf.reset_default_graph()"
   ]
  },
  {
   "cell_type": "code",
   "execution_count": 16,
   "metadata": {},
   "outputs": [],
   "source": [
    "num_inputs = 1"
   ]
  },
  {
   "cell_type": "code",
   "execution_count": 17,
   "metadata": {},
   "outputs": [],
   "source": [
    "num_neurons = 100"
   ]
  },
  {
   "cell_type": "code",
   "execution_count": 18,
   "metadata": {},
   "outputs": [],
   "source": [
    "num_outputs = 1"
   ]
  },
  {
   "cell_type": "code",
   "execution_count": 19,
   "metadata": {},
   "outputs": [],
   "source": [
    "learning_rate = 0.0001"
   ]
  },
  {
   "cell_type": "code",
   "execution_count": 20,
   "metadata": {},
   "outputs": [],
   "source": [
    "num_train_interations = 2000"
   ]
  },
  {
   "cell_type": "code",
   "execution_count": 21,
   "metadata": {},
   "outputs": [],
   "source": [
    "batch_size = 1"
   ]
  },
  {
   "cell_type": "code",
   "execution_count": 22,
   "metadata": {},
   "outputs": [],
   "source": [
    "#Placeholders\n",
    "\n",
    "X = tf.placeholder(tf.float32,[None,num_time_steps,num_inputs])\n",
    "y = tf.placeholder(tf.float32,[None,num_time_steps,num_outputs])"
   ]
  },
  {
   "cell_type": "markdown",
   "metadata": {},
   "source": [
    "## Create RNN cell layer"
   ]
  },
  {
   "cell_type": "code",
   "execution_count": 24,
   "metadata": {},
   "outputs": [],
   "source": [
    "cell = tf.contrib.rnn.OutputProjectionWrapper(\n",
    "    tf.contrib.rnn.BasicRNNCell(num_units=num_neurons,activation=tf.nn.relu),\n",
    "    output_size=num_outputs)"
   ]
  },
  {
   "cell_type": "code",
   "execution_count": 26,
   "metadata": {},
   "outputs": [
    {
     "name": "stdout",
     "output_type": "stream",
     "text": [
      "WARNING:tensorflow:From <ipython-input-26-e0fe7d2a9a0c>:1: dynamic_rnn (from tensorflow.python.ops.rnn) is deprecated and will be removed in a future version.\n",
      "Instructions for updating:\n",
      "Please use `keras.layers.RNN(cell)`, which is equivalent to this API\n",
      "WARNING:tensorflow:From /home/jean/anaconda3/lib/python3.7/site-packages/tensorflow_core/python/ops/rnn_cell_impl.py:456: Layer.add_variable (from tensorflow.python.keras.engine.base_layer) is deprecated and will be removed in a future version.\n",
      "Instructions for updating:\n",
      "Please use `layer.add_weight` method instead.\n",
      "WARNING:tensorflow:From /home/jean/anaconda3/lib/python3.7/site-packages/tensorflow_core/python/ops/rnn_cell_impl.py:460: calling Zeros.__init__ (from tensorflow.python.ops.init_ops) with dtype is deprecated and will be removed in a future version.\n",
      "Instructions for updating:\n",
      "Call initializer instance with the dtype argument instead of passing it to the constructor\n",
      "WARNING:tensorflow:From /home/jean/anaconda3/lib/python3.7/site-packages/tensorflow_core/contrib/rnn/python/ops/core_rnn_cell.py:104: calling Constant.__init__ (from tensorflow.python.ops.init_ops) with dtype is deprecated and will be removed in a future version.\n",
      "Instructions for updating:\n",
      "Call initializer instance with the dtype argument instead of passing it to the constructor\n"
     ]
    }
   ],
   "source": [
    "outputs, states = tf.nn.dynamic_rnn(cell,X,dtype=tf.float32)"
   ]
  },
  {
   "cell_type": "code",
   "execution_count": 27,
   "metadata": {},
   "outputs": [],
   "source": [
    "loss = tf.reduce_mean(tf.square(outputs-y))"
   ]
  },
  {
   "cell_type": "code",
   "execution_count": 28,
   "metadata": {},
   "outputs": [],
   "source": [
    "optimizer = tf.train.AdamOptimizer(learning_rate=learning_rate)\n",
    "train = optimizer.minimize(loss)"
   ]
  },
  {
   "cell_type": "code",
   "execution_count": 29,
   "metadata": {},
   "outputs": [],
   "source": [
    "init = tf.global_variables_initializer()"
   ]
  },
  {
   "cell_type": "markdown",
   "metadata": {},
   "source": [
    "## Session"
   ]
  },
  {
   "cell_type": "code",
   "execution_count": 30,
   "metadata": {},
   "outputs": [],
   "source": [
    "saver = tf.train.Saver()"
   ]
  },
  {
   "cell_type": "code",
   "execution_count": 31,
   "metadata": {},
   "outputs": [
    {
     "name": "stdout",
     "output_type": "stream",
     "text": [
      "0 \tMSE 0.69110227\n",
      "100 \tMSE 0.19331035\n",
      "200 \tMSE 0.08123442\n",
      "300 \tMSE 0.05774149\n",
      "400 \tMSE 0.0064076986\n",
      "500 \tMSE 0.030585567\n",
      "600 \tMSE 0.009395689\n",
      "700 \tMSE 0.0297034\n",
      "800 \tMSE 0.0001799915\n",
      "900 \tMSE 0.01415888\n",
      "1000 \tMSE 0.017879615\n",
      "1100 \tMSE 0.007376973\n",
      "1200 \tMSE 0.005846888\n",
      "1300 \tMSE 0.002783724\n",
      "1400 \tMSE 0.014849126\n",
      "1500 \tMSE 0.0014626037\n",
      "1600 \tMSE 9.175212e-05\n",
      "1700 \tMSE 0.013029625\n",
      "1800 \tMSE 0.0010344025\n",
      "1900 \tMSE 0.004790151\n"
     ]
    }
   ],
   "source": [
    "with tf.Session() as sess:\n",
    "    sess.run(init)\n",
    "    \n",
    "    for interation in range(num_train_interations):\n",
    "        X_batch, y_batch = ts_data.next_batch(batch_size,num_time_steps)\n",
    "        sess.run(train,feed_dict={X:X_batch,y:y_batch})\n",
    "        \n",
    "        if interation%100==0:\n",
    "            mse = loss.eval(feed_dict={X:X_batch,y:y_batch})\n",
    "            print(interation,\"\\tMSE\",mse)\n",
    "            \n",
    "        saver.save(sess,\"./rnn_time_series_model_codealong\")"
   ]
  },
  {
   "cell_type": "code",
   "execution_count": 32,
   "metadata": {},
   "outputs": [
    {
     "name": "stdout",
     "output_type": "stream",
     "text": [
      "INFO:tensorflow:Restoring parameters from ./rnn_time_series_model_codealong\n"
     ]
    }
   ],
   "source": [
    "with tf.Session() as sess:\n",
    "    saver.restore(sess,\"./rnn_time_series_model_codealong\")\n",
    "    \n",
    "    X_new = np.sin(np.array(train_inst[:-1]).reshape(-1,num_time_steps,num_inputs))\n",
    "    y_pred = sess.run(outputs,feed_dict={X:X_new})"
   ]
  },
  {
   "cell_type": "code",
   "execution_count": 35,
   "metadata": {},
   "outputs": [
    {
     "data": {
      "image/png": "[encoded data removed]",
      "text/plain": [
       "<Figure size 432x288 with 1 Axes>"
      ]
     },
     "metadata": {
      "needs_background": "light"
     },
     "output_type": "display_data"
    }
   ],
   "source": [
    "plt.title(\"Testing the Model\")\n",
    "\n",
    "plt.plot(train_inst[:-1],np.sin(train_inst[:-1]),\"bo\",markersize=15,alpha=0.5,label=\"Training Instance\")\n",
    "plt.plot(train_inst[1:],np.sin(train_inst[1:]),\"ko\",markersize=7,label=\"target\")\n",
    "plt.plot(train_inst[1:],y_pred[0,:,0],\"r.\",markersize=7,label=\"predictions\")\n",
    "plt.xlabel(\"Time\")\n",
    "plt.legend()\n",
    "plt.tight_layout()"
   ]
  },
  {
   "cell_type": "markdown",
   "metadata": {},
   "source": [
    "# Generating a New Sequence"
   ]
  },
  {
   "cell_type": "code",
   "execution_count": 51,
   "metadata": {},
   "outputs": [
    {
     "name": "stdout",
     "output_type": "stream",
     "text": [
      "INFO:tensorflow:Restoring parameters from ./rnn_time_series_model_codealong\n"
     ]
    }
   ],
   "source": [
    "with tf.Session() as sess:\n",
    "    \n",
    "    saver.restore(sess,\"./rnn_time_series_model_codealong\")\n",
    "    \n",
    "    #SEED ZEROS\n",
    "    \n",
    "    zero_seq_seed = [0.0 for i in range(num_time_steps)]\n",
    "    for interations in range(len(ts_data.x_data)-num_time_steps):\n",
    "        X_batch = np.array(zero_seq_seed[-num_time_steps:]).reshape(-1,num_time_steps,1)\n",
    "        y_pred = sess.run(outputs,feed_dict={X:X_batch})\n",
    "        zero_seq_seed.append(y_pred[0,-1,0])"
   ]
  },
  {
   "cell_type": "code",
   "execution_count": 52,
   "metadata": {},
   "outputs": [
    {
     "data": {
      "text/plain": [
       "Text(0, 0.5, 'Value')"
      ]
     },
     "execution_count": 52,
     "metadata": {},
     "output_type": "execute_result"
    },
    {
     "data": {
      "image/png": "[encoded data removed]",
      "text/plain": [
       "<Figure size 432x288 with 1 Axes>"
      ]
     },
     "metadata": {
      "needs_background": "light"
     },
     "output_type": "display_data"
    }
   ],
   "source": [
    "plt.plot(ts_data.x_data, zero_seq_seed, \"b-\")\n",
    "plt.plot(ts_data.x_data[:num_time_steps], zero_seq_seed[:num_time_steps], \"r\", linewidth=3)\n",
    "plt.xlabel(\"Time\")\n",
    "plt.ylabel(\"Value\")"
   ]
  },
  {
   "cell_type": "code",
   "execution_count": 55,
   "metadata": {},
   "outputs": [
    {
     "name": "stdout",
     "output_type": "stream",
     "text": [
      "INFO:tensorflow:Restoring parameters from ./rnn_time_series_model_codealong\n"
     ]
    }
   ],
   "source": [
    "with tf.Session() as sess:\n",
    "    \n",
    "    saver.restore(sess,\"./rnn_time_series_model_codealong\")\n",
    "    \n",
    "  \n",
    "    \n",
    "    training_instance = list(ts_data.ytrue[:30])\n",
    "    for interations in range(len(ts_data.x_data)-num_time_steps):\n",
    "        X_batch = np.array(training_instance[-num_time_steps:]).reshape(-1,num_time_steps,1)\n",
    "        y_pred = sess.run(outputs,feed_dict={X:X_batch})\n",
    "        training_instance.append(y_pred[0,-1,0])"
   ]
  },
  {
   "cell_type": "code",
   "execution_count": 56,
   "metadata": {},
   "outputs": [
    {
     "data": {
      "text/plain": [
       "Text(0.5, 0, 'Time')"
      ]
     },
     "execution_count": 56,
     "metadata": {},
     "output_type": "execute_result"
    },
    {
     "data": {
      "image/png": "[encoded data removed]",
      "text/plain": [
       "<Figure size 432x288 with 1 Axes>"
      ]
     },
     "metadata": {
      "needs_background": "light"
     },
     "output_type": "display_data"
    }
   ],
   "source": [
    "plt.plot(ts_data.x_data, training_instance , \"b-\")\n",
    "plt.plot(ts_data.x_data[:num_time_steps],training_instance[:num_time_steps], \"r-\", linewidth=3)\n",
    "plt.xlabel(\"Time\")"
   ]
  },
  {
   "cell_type": "code",
   "execution_count": null,
   "metadata": {},
   "outputs": [],
   "source": []
  }
 ],
 "metadata": {
  "kernelspec": {
   "display_name": "Python 3",
   "language": "python",
   "name": "python3"
  },
  "language_info": {
   "codemirror_mode": {
    "name": "ipython",
    "version": 3
   },
   "file_extension": ".py",
   "mimetype": "text/x-python",
   "name": "python",
   "nbconvert_exporter": "python",
   "pygments_lexer": "ipython3",
   "version": "3.7.5"
  }
 },
 "nbformat": 4,
 "nbformat_minor": 2
}
